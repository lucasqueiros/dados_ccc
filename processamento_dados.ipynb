{
 "cells": [
  {
   "cell_type": "markdown",
   "metadata": {},
   "source": [
    "## Imports"
   ]
  },
  {
   "cell_type": "code",
   "execution_count": 3,
   "metadata": {},
   "outputs": [],
   "source": [
    "import pandas as pd\n",
    "\n",
    "import matplotlib.pyplot as plt\n",
    "import seaborn as sns"
   ]
  },
  {
   "cell_type": "markdown",
   "metadata": {},
   "source": [
    "## Carregando base de dados"
   ]
  },
  {
   "cell_type": "code",
   "execution_count": 23,
   "metadata": {},
   "outputs": [
    {
     "data": {
      "text/html": [
       "<div>\n",
       "<style scoped>\n",
       "    .dataframe tbody tr th:only-of-type {\n",
       "        vertical-align: middle;\n",
       "    }\n",
       "\n",
       "    .dataframe tbody tr th {\n",
       "        vertical-align: top;\n",
       "    }\n",
       "\n",
       "    .dataframe thead th {\n",
       "        text-align: right;\n",
       "    }\n",
       "</style>\n",
       "<table border=\"1\" class=\"dataframe\">\n",
       "  <thead>\n",
       "    <tr style=\"text-align: right;\">\n",
       "      <th></th>\n",
       "      <th>id</th>\n",
       "      <th>codigo_curriculo</th>\n",
       "      <th>codigo_ingresso</th>\n",
       "      <th>periodo_ingresso</th>\n",
       "      <th>forma_ingresso</th>\n",
       "      <th>codigo_evasao</th>\n",
       "      <th>forma_evasao</th>\n",
       "      <th>periodo_evasao</th>\n",
       "      <th>evadiu_periodo</th>\n",
       "      <th>forma_saida</th>\n",
       "      <th>...</th>\n",
       "      <th>codigo_tipo_matricula</th>\n",
       "      <th>tipo_matricula</th>\n",
       "      <th>codigo_situacao</th>\n",
       "      <th>situacao</th>\n",
       "      <th>media_final</th>\n",
       "      <th>nome_disciplina</th>\n",
       "      <th>numero_creditos</th>\n",
       "      <th>carga_horaria</th>\n",
       "      <th>nome_setor</th>\n",
       "      <th>periodo_relativo</th>\n",
       "    </tr>\n",
       "  </thead>\n",
       "  <tbody>\n",
       "    <tr>\n",
       "      <th>0</th>\n",
       "      <td>L342881</td>\n",
       "      <td>1979</td>\n",
       "      <td>1</td>\n",
       "      <td>1983.1</td>\n",
       "      <td>VESTIBULAR</td>\n",
       "      <td>1</td>\n",
       "      <td>GRADUADO</td>\n",
       "      <td>1987.2</td>\n",
       "      <td>10.0</td>\n",
       "      <td>Graduado</td>\n",
       "      <td>...</td>\n",
       "      <td>1.0</td>\n",
       "      <td>Normal</td>\n",
       "      <td>3.0</td>\n",
       "      <td>Aprovado</td>\n",
       "      <td>7.6</td>\n",
       "      <td>ALGEBRA VETORIAL E GEOMETRIA ANALÍTICA</td>\n",
       "      <td>4.0</td>\n",
       "      <td>60.0</td>\n",
       "      <td>UNID. ACAD. DE MATEMÁTICA</td>\n",
       "      <td>2.0</td>\n",
       "    </tr>\n",
       "    <tr>\n",
       "      <th>1</th>\n",
       "      <td>L342881</td>\n",
       "      <td>1979</td>\n",
       "      <td>1</td>\n",
       "      <td>1983.1</td>\n",
       "      <td>VESTIBULAR</td>\n",
       "      <td>1</td>\n",
       "      <td>GRADUADO</td>\n",
       "      <td>1987.2</td>\n",
       "      <td>10.0</td>\n",
       "      <td>Graduado</td>\n",
       "      <td>...</td>\n",
       "      <td>1.0</td>\n",
       "      <td>Normal</td>\n",
       "      <td>3.0</td>\n",
       "      <td>Aprovado</td>\n",
       "      <td>7.8</td>\n",
       "      <td>ECONOMIA</td>\n",
       "      <td>4.0</td>\n",
       "      <td>60.0</td>\n",
       "      <td>UNID. ACAD. DE ECONOMIA E FINANCAS</td>\n",
       "      <td>4.0</td>\n",
       "    </tr>\n",
       "    <tr>\n",
       "      <th>2</th>\n",
       "      <td>L342881</td>\n",
       "      <td>1979</td>\n",
       "      <td>1</td>\n",
       "      <td>1983.1</td>\n",
       "      <td>VESTIBULAR</td>\n",
       "      <td>1</td>\n",
       "      <td>GRADUADO</td>\n",
       "      <td>1987.2</td>\n",
       "      <td>10.0</td>\n",
       "      <td>Graduado</td>\n",
       "      <td>...</td>\n",
       "      <td>1.0</td>\n",
       "      <td>Normal</td>\n",
       "      <td>3.0</td>\n",
       "      <td>Aprovado</td>\n",
       "      <td>7.7</td>\n",
       "      <td>SOCIOLOGIA INDUSTRIAL I</td>\n",
       "      <td>3.0</td>\n",
       "      <td>45.0</td>\n",
       "      <td>UNID. ACAD. DE SOCIOLOGIA E ANTROPOLOGIA</td>\n",
       "      <td>7.0</td>\n",
       "    </tr>\n",
       "    <tr>\n",
       "      <th>3</th>\n",
       "      <td>L342881</td>\n",
       "      <td>1979</td>\n",
       "      <td>1</td>\n",
       "      <td>1983.1</td>\n",
       "      <td>VESTIBULAR</td>\n",
       "      <td>1</td>\n",
       "      <td>GRADUADO</td>\n",
       "      <td>1987.2</td>\n",
       "      <td>10.0</td>\n",
       "      <td>Graduado</td>\n",
       "      <td>...</td>\n",
       "      <td>1.0</td>\n",
       "      <td>Normal</td>\n",
       "      <td>2.0</td>\n",
       "      <td>Trancado</td>\n",
       "      <td>NaN</td>\n",
       "      <td>INTRODUÇÃO À PSICOLOGIA</td>\n",
       "      <td>4.0</td>\n",
       "      <td>60.0</td>\n",
       "      <td>UNID. ACAD. DE EDUCAÇÃO</td>\n",
       "      <td>1.0</td>\n",
       "    </tr>\n",
       "    <tr>\n",
       "      <th>4</th>\n",
       "      <td>L342881</td>\n",
       "      <td>1979</td>\n",
       "      <td>1</td>\n",
       "      <td>1983.1</td>\n",
       "      <td>VESTIBULAR</td>\n",
       "      <td>1</td>\n",
       "      <td>GRADUADO</td>\n",
       "      <td>1987.2</td>\n",
       "      <td>10.0</td>\n",
       "      <td>Graduado</td>\n",
       "      <td>...</td>\n",
       "      <td>1.0</td>\n",
       "      <td>Normal</td>\n",
       "      <td>3.0</td>\n",
       "      <td>Aprovado</td>\n",
       "      <td>9.1</td>\n",
       "      <td>INTRODUÇÃO À PSICOLOGIA</td>\n",
       "      <td>4.0</td>\n",
       "      <td>60.0</td>\n",
       "      <td>UNID. ACAD. DE EDUCAÇÃO</td>\n",
       "      <td>6.0</td>\n",
       "    </tr>\n",
       "  </tbody>\n",
       "</table>\n",
       "<p>5 rows × 34 columns</p>\n",
       "</div>"
      ],
      "text/plain": [
       "        id  codigo_curriculo  codigo_ingresso  periodo_ingresso  \\\n",
       "0  L342881              1979                1            1983.1   \n",
       "1  L342881              1979                1            1983.1   \n",
       "2  L342881              1979                1            1983.1   \n",
       "3  L342881              1979                1            1983.1   \n",
       "4  L342881              1979                1            1983.1   \n",
       "\n",
       "  forma_ingresso  codigo_evasao forma_evasao  periodo_evasao  evadiu_periodo  \\\n",
       "0     VESTIBULAR              1     GRADUADO          1987.2            10.0   \n",
       "1     VESTIBULAR              1     GRADUADO          1987.2            10.0   \n",
       "2     VESTIBULAR              1     GRADUADO          1987.2            10.0   \n",
       "3     VESTIBULAR              1     GRADUADO          1987.2            10.0   \n",
       "4     VESTIBULAR              1     GRADUADO          1987.2            10.0   \n",
       "\n",
       "  forma_saida  ... codigo_tipo_matricula  tipo_matricula codigo_situacao  \\\n",
       "0    Graduado  ...                   1.0          Normal             3.0   \n",
       "1    Graduado  ...                   1.0          Normal             3.0   \n",
       "2    Graduado  ...                   1.0          Normal             3.0   \n",
       "3    Graduado  ...                   1.0          Normal             2.0   \n",
       "4    Graduado  ...                   1.0          Normal             3.0   \n",
       "\n",
       "   situacao  media_final                         nome_disciplina  \\\n",
       "0  Aprovado          7.6  ALGEBRA VETORIAL E GEOMETRIA ANALÍTICA   \n",
       "1  Aprovado          7.8                                ECONOMIA   \n",
       "2  Aprovado          7.7                 SOCIOLOGIA INDUSTRIAL I   \n",
       "3  Trancado          NaN                 INTRODUÇÃO À PSICOLOGIA   \n",
       "4  Aprovado          9.1                 INTRODUÇÃO À PSICOLOGIA   \n",
       "\n",
       "   numero_creditos  carga_horaria                                nome_setor  \\\n",
       "0              4.0           60.0                 UNID. ACAD. DE MATEMÁTICA   \n",
       "1              4.0           60.0        UNID. ACAD. DE ECONOMIA E FINANCAS   \n",
       "2              3.0           45.0  UNID. ACAD. DE SOCIOLOGIA E ANTROPOLOGIA   \n",
       "3              4.0           60.0                   UNID. ACAD. DE EDUCAÇÃO   \n",
       "4              4.0           60.0                   UNID. ACAD. DE EDUCAÇÃO   \n",
       "\n",
       "  periodo_relativo  \n",
       "0              2.0  \n",
       "1              4.0  \n",
       "2              7.0  \n",
       "3              1.0  \n",
       "4              6.0  \n",
       "\n",
       "[5 rows x 34 columns]"
      ]
     },
     "execution_count": 23,
     "metadata": {},
     "output_type": "execute_result"
    }
   ],
   "source": [
    "dados = pd.read_csv('historico_alunos_raiox.csv')\n",
    "dados.head()"
   ]
  },
  {
   "cell_type": "markdown",
   "metadata": {},
   "source": [
    "## Exploração e Pré-processamento dos dados"
   ]
  },
  {
   "cell_type": "code",
   "execution_count": 24,
   "metadata": {},
   "outputs": [
    {
     "data": {
      "text/plain": [
       "(150703, 34)"
      ]
     },
     "execution_count": 24,
     "metadata": {},
     "output_type": "execute_result"
    }
   ],
   "source": [
    "dados.shape"
   ]
  },
  {
   "cell_type": "code",
   "execution_count": 25,
   "metadata": {},
   "outputs": [
    {
     "data": {
      "text/plain": [
       "Index(['id', 'codigo_curriculo', 'codigo_ingresso', 'periodo_ingresso',\n",
       "       'forma_ingresso', 'codigo_evasao', 'forma_evasao', 'periodo_evasao',\n",
       "       'evadiu_periodo', 'forma_saida', 'acao_afirmativa',\n",
       "       'tipo_reserva_vagas', 'forma_reserva_vagas', 'sexo', 'codigo_cor',\n",
       "       'nome_cor', 'idade_ingresso', 'idade_evasao', 'tipo_ensino_medio',\n",
       "       'ensino_medio', 'apv_media_geral', 'codigo_disciplina',\n",
       "       'periodo_matricula', 'turma', 'codigo_tipo_matricula', 'tipo_matricula',\n",
       "       'codigo_situacao', 'situacao', 'media_final', 'nome_disciplina',\n",
       "       'numero_creditos', 'carga_horaria', 'nome_setor', 'periodo_relativo'],\n",
       "      dtype='object')"
      ]
     },
     "execution_count": 25,
     "metadata": {},
     "output_type": "execute_result"
    }
   ],
   "source": [
    "dados.columns"
   ]
  },
  {
   "cell_type": "code",
   "execution_count": 26,
   "metadata": {},
   "outputs": [
    {
     "name": "stdout",
     "output_type": "stream",
     "text": [
      "<class 'pandas.core.frame.DataFrame'>\n",
      "RangeIndex: 150703 entries, 0 to 150702\n",
      "Data columns (total 34 columns):\n",
      " #   Column                 Non-Null Count   Dtype  \n",
      "---  ------                 --------------   -----  \n",
      " 0   id                     150703 non-null  object \n",
      " 1   codigo_curriculo       150703 non-null  int64  \n",
      " 2   codigo_ingresso        150703 non-null  int64  \n",
      " 3   periodo_ingresso       150703 non-null  float64\n",
      " 4   forma_ingresso         150703 non-null  object \n",
      " 5   codigo_evasao          150703 non-null  int64  \n",
      " 6   forma_evasao           150703 non-null  object \n",
      " 7   periodo_evasao         150703 non-null  float64\n",
      " 8   evadiu_periodo         126765 non-null  float64\n",
      " 9   forma_saida            150703 non-null  object \n",
      " 10  acao_afirmativa        150703 non-null  object \n",
      " 11  tipo_reserva_vagas     150703 non-null  int64  \n",
      " 12  forma_reserva_vagas    150703 non-null  object \n",
      " 13  sexo                   150703 non-null  object \n",
      " 14  codigo_cor             150703 non-null  int64  \n",
      " 15  nome_cor               150703 non-null  object \n",
      " 16  idade_ingresso         150703 non-null  int64  \n",
      " 17  idade_evasao           126852 non-null  float64\n",
      " 18  tipo_ensino_medio      67992 non-null   float64\n",
      " 19  ensino_medio           150703 non-null  object \n",
      " 20  apv_media_geral        145703 non-null  float64\n",
      " 21  codigo_disciplina      150650 non-null  float64\n",
      " 22  periodo_matricula      150650 non-null  float64\n",
      " 23  turma                  150650 non-null  float64\n",
      " 24  codigo_tipo_matricula  150650 non-null  float64\n",
      " 25  tipo_matricula         150650 non-null  object \n",
      " 26  codigo_situacao        150650 non-null  float64\n",
      " 27  situacao               150650 non-null  object \n",
      " 28  media_final            131493 non-null  float64\n",
      " 29  nome_disciplina        150650 non-null  object \n",
      " 30  numero_creditos        150650 non-null  float64\n",
      " 31  carga_horaria          150650 non-null  float64\n",
      " 32  nome_setor             150650 non-null  object \n",
      " 33  periodo_relativo       150105 non-null  float64\n",
      "dtypes: float64(15), int64(6), object(13)\n",
      "memory usage: 39.1+ MB\n"
     ]
    }
   ],
   "source": [
    "# Observando as colunas e seus respectivos tipos\n",
    "dados.info()"
   ]
  },
  {
   "cell_type": "code",
   "execution_count": 27,
   "metadata": {},
   "outputs": [
    {
     "data": {
      "text/plain": [
       "id                           0\n",
       "codigo_curriculo             0\n",
       "codigo_ingresso              0\n",
       "periodo_ingresso             0\n",
       "forma_ingresso               0\n",
       "codigo_evasao                0\n",
       "forma_evasao                 0\n",
       "periodo_evasao               0\n",
       "evadiu_periodo           23938\n",
       "forma_saida                  0\n",
       "acao_afirmativa              0\n",
       "tipo_reserva_vagas           0\n",
       "forma_reserva_vagas          0\n",
       "sexo                         0\n",
       "codigo_cor                   0\n",
       "nome_cor                     0\n",
       "idade_ingresso               0\n",
       "idade_evasao             23851\n",
       "tipo_ensino_medio        82711\n",
       "ensino_medio                 0\n",
       "apv_media_geral           5000\n",
       "codigo_disciplina           53\n",
       "periodo_matricula           53\n",
       "turma                       53\n",
       "codigo_tipo_matricula       53\n",
       "tipo_matricula              53\n",
       "codigo_situacao             53\n",
       "situacao                    53\n",
       "media_final              19210\n",
       "nome_disciplina             53\n",
       "numero_creditos             53\n",
       "carga_horaria               53\n",
       "nome_setor                  53\n",
       "periodo_relativo           598\n",
       "dtype: int64"
      ]
     },
     "execution_count": 27,
     "metadata": {},
     "output_type": "execute_result"
    }
   ],
   "source": [
    "# Verificando se há valores nulos\n",
    "dados.isnull().sum()"
   ]
  },
  {
   "cell_type": "code",
   "execution_count": null,
   "metadata": {},
   "outputs": [],
   "source": []
  }
 ],
 "metadata": {
  "kernelspec": {
   "display_name": "dados_ccc",
   "language": "python",
   "name": "python3"
  },
  "language_info": {
   "codemirror_mode": {
    "name": "ipython",
    "version": 3
   },
   "file_extension": ".py",
   "mimetype": "text/x-python",
   "name": "python",
   "nbconvert_exporter": "python",
   "pygments_lexer": "ipython3",
   "version": "3.12.4"
  }
 },
 "nbformat": 4,
 "nbformat_minor": 2
}
